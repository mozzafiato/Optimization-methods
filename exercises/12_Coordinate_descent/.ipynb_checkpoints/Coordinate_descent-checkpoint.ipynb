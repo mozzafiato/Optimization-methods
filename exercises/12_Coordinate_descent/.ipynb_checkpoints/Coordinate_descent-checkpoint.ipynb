{
 "cells": [
  {
   "cell_type": "code",
   "execution_count": 2,
   "metadata": {
    "pycharm": {
     "is_executing": true
    }
   },
   "outputs": [],
   "source": [
    "from collections import defaultdict\n",
    "import numpy as np\n",
    "import scipy\n",
    "import scipy.sparse as sps\n",
    "import math\n",
    "import matplotlib.pyplot as plt\n",
    "import time\n",
    "from sklearn.datasets import load_svmlight_file\n",
    "import random\n",
    "%matplotlib inline"
   ]
  },
  {
   "cell_type": "markdown",
   "metadata": {
    "collapsed": true
   },
   "source": [
    "# Support Vector Machines\n",
    "## Classification Using SVM\n",
    "Load dataset. We will use w1a dataset from LibSVM datasets https://www.csie.ntu.edu.tw/~cjlin/libsvmtools/datasets/"
   ]
  },
  {
   "cell_type": "markdown",
   "metadata": {},
   "source": [
    "The original optimization problem for the Support Vector Machine (SVM) is given by\n",
    "\\begin{equation}\\label{eq:primal}\n",
    "  \\min_{w \\in R^d} \\  \\sum_{i=1}^n \\ell(y_i A_i^\\top w) + \\frac\\lambda2 \\|w\\|^2\n",
    "\\end{equation}\n",
    "where $\\ell : R\\rightarrow R$, $\\ell(z) := \\max\\{0,1-z\\}$ is the hinge loss function.\n",
    "Here for any $i$, $1\\le i\\le n$, the vector $A_i\\in R^d$ is the $i$-th data example, and $y_i\\in\\{\\pm1\\}$ is the corresponding label.\n",
    "  \n",
    "The dual optimization problem for the SVM is given by \n",
    "\\begin{equation}\\label{eq:dual}\n",
    " \\max_{\\boldsymbol{\\alpha} \\in R^n } \\  \\alpha^\\top\\boldsymbol{1} - \\tfrac1{2\\lambda} \\alpha^\\top Y A A^\\top Y\\alpha\n",
    " \\text{    such that    $0\\le \\alpha_i \\le 1  \\ \\forall i$}\n",
    "\\end{equation}\n",
    "where $Y := \\mathop{diag}(y)$, and $A\\in R^{n \\times d}$ again collects all $n$ data examples as its columns. \n",
    "\n",
    "Note that $w$ can be derived from $\\alpha$ as\n",
    "\\begin{equation}\n",
    "    w(\\alpha) = \\frac{1}{\\lambda} A^\\top Y \\alpha.\n",
    "\\end{equation}"
   ]
  },
  {
   "cell_type": "code",
   "execution_count": 4,
   "metadata": {},
   "outputs": [
    {
     "name": "stdout",
     "output_type": "stream",
     "text": [
      "(2477,) (2477, 300)\n"
     ]
    }
   ],
   "source": [
    "DATA_TRAIN_PATH = 'data/w1a'\n",
    "\n",
    "A, y = load_svmlight_file(DATA_TRAIN_PATH)\n",
    "A = A.toarray()\n",
    "print(y.shape, A.shape)"
   ]
  },
  {
   "cell_type": "markdown",
   "metadata": {},
   "source": [
    "## Prepare cost and prediction functions"
   ]
  },
  {
   "cell_type": "code",
   "execution_count": 14,
   "metadata": {},
   "outputs": [],
   "source": [
    "def calculate_primal_objective(y, A, w, lambda_):\n",
    "    \"\"\"\n",
    "    Compute the full cost (the primal objective), that is loss plus regularizer.\n",
    "    y: +1 or -1 labels, shape = (num_examples)\n",
    "    A: Dataset matrix, shape = (num_examples, num_features)\n",
    "    w: Model weights, shape = (num_features)\n",
    "    return: scalar value\n",
    "    \"\"\"\n",
    "    # ***************************************************\n",
    "    s = 0\n",
    "    for i in range(len(y)):\n",
    "        loss = max(0, 1 - y[i] * (A[i].T @ w))\n",
    "        s += loss\n",
    "    w2 = np.sum(w ** 2)\n",
    "    \n",
    "    obj = s + lambda_ / 2 * w2\n",
    "    # ***************************************************\n",
    "    return obj"
   ]
  },
  {
   "cell_type": "code",
   "execution_count": 25,
   "metadata": {},
   "outputs": [],
   "source": [
    "def calculate_accuracy(y, A, w):\n",
    "    \"\"\"\n",
    "    Compute the training accuracy on the training set (can be called for test set as well).\n",
    "    y: +1 or -1 labels, shape = (num_examples)\n",
    "    A: Dataset matrix, shape = (num_examples, num_features)\n",
    "    w: Model weights, shape = (num_features)\n",
    "    return: scalar value\n",
    "    \"\"\"\n",
    "    # ***************************************************\n",
    "    # compute predictions\n",
    "    pred = A @ w\n",
    "    # correct predictions to be -1 or 1\n",
    "    for i in range(len(pred)):\n",
    "        if pred[i] > 0:\n",
    "            pred[i] = 1\n",
    "        else:\n",
    "            pred[i] = -1\n",
    "        \n",
    "    # compute accuracy\n",
    "    acc = np.mean(pred == y)\n",
    "    # ***************************************************\n",
    "    return acc"
   ]
  },
  {
   "cell_type": "markdown",
   "metadata": {},
   "source": [
    "## Coordinate Descent (Ascent) for SVM"
   ]
  },
  {
   "cell_type": "markdown",
   "metadata": {},
   "source": [
    "Compute the closed-form update for the i-th variable alpha, in the dual optimization problem, given alpha and the current corresponding w.\n",
    "\n",
    "\n",
    "Hints: \n",
    "- Differentiate the dual objective with respect to one `alpha[i]`.\n",
    "- Set the derivative to zero to compute a new `alpha[i]`.\n",
    "- Make sure the values of alpha stay inside a `[0, 1]` box.\n",
    "- You can formulate the update as `alpha[i] = projection(alpha[i] + lambda_ * (some update))`.\n",
    "- You can test the correctness of your implementation by checking if the difference between the dual objective and primal objective goes to zero. This difference, the duality gap, should get smaller than 10 in 700000 iterations."
   ]
  },
  {
   "cell_type": "code",
   "execution_count": 31,
   "metadata": {},
   "outputs": [],
   "source": [
    "def calculate_coordinate_update(y, A, lambda_, alpha, w, i):\n",
    "    \"\"\"\n",
    "    Compute a coordinate update (closed form) for coordinate i.\n",
    "    y: +1 or -1 labels, shape = (num_examples)\n",
    "    A: Dataset matrix, shape = (num_examples, num_features)\n",
    "    lambda_: Regularization parameter, scalar\n",
    "    alpha: Dual variables, shape = (num_examples)\n",
    "    w: Model weights, shape = (num_examples)\n",
    "    i: Index of the entry of the dual variable 'alpha' that is to be updated\n",
    "    return: New weights w (shape (num_features)), New dual variables alpha (shape (num_examples))\n",
    "    \"\"\"\n",
    "    # calculate the update of coordinate at index=n.\n",
    "    a_i, y_i = A[i], y[i]\n",
    "    old_alpha_i = np.copy(alpha[i])\n",
    "    \n",
    "    # ***************************************************\n",
    "    C = old_alpha_i + lambda_ * ((1 - y_i * a_i.T @ w)/(a_i.T @ a_i))\n",
    "    if C < 0: C = 0\n",
    "    if C > 1: C = 1\n",
    "    alpha[i] = C\n",
    "\n",
    "    # update w\n",
    "    w += (alpha[i] - old_alpha_i) * y_i * a_i * (1/lambda_)\n",
    "    # ***************************************************\n",
    "\n",
    "    return w, alpha"
   ]
  },
  {
   "cell_type": "code",
   "execution_count": 8,
   "metadata": {},
   "outputs": [],
   "source": [
    "def calculate_dual_objective(y, A, w, alpha, lambda_):\n",
    "    \"\"\"\n",
    "    Calculate the objective for the dual problem.\n",
    "    Follow the formula given above.\n",
    "    y: +1 or -1 labels, shape = (num_examples)\n",
    "    A: Dataset matrix, shape = (num_examples, num_features)\n",
    "    alpha: Dual variables, shape = (num_examples)\n",
    "    lambda_: Regularization parameter, scalar\n",
    "    return: Scalar value\n",
    "    \"\"\"\n",
    "    # ***************************************************\n",
    "    w2 = np.sum(w ** 2)\n",
    "    obj = np.sum(alpha) - lambda_/2 * w2\n",
    "    # ***************************************************\n",
    "    return obj"
   ]
  },
  {
   "cell_type": "code",
   "execution_count": 32,
   "metadata": {},
   "outputs": [
    {
     "name": "stdout",
     "output_type": "stream",
     "text": [
      "iteration=0, primal:2198.07161, dual:0.00018, gap:2198.07143\n"
     ]
    },
    {
     "name": "stderr",
     "output_type": "stream",
     "text": [
      "c:\\users\\melanija\\appdata\\local\\programs\\python\\python37\\lib\\site-packages\\ipykernel_launcher.py:17: RuntimeWarning: divide by zero encountered in double_scalars\n"
     ]
    },
    {
     "name": "stdout",
     "output_type": "stream",
     "text": [
      "iteration=100000, primal:279.61403, dual:216.25006, gap:63.36397\n",
      "iteration=200000, primal:263.39900, dual:222.35389, gap:41.04512\n",
      "iteration=300000, primal:244.70078, dual:223.61763, gap:21.08315\n",
      "iteration=400000, primal:237.81812, dual:224.60328, gap:13.21483\n",
      "iteration=500000, primal:245.41629, dual:225.51759, gap:19.89869\n",
      "iteration=600000, primal:241.74883, dual:225.98354, gap:15.76530\n",
      "iteration=700000, primal:235.64178, dual:226.36782, gap:9.27396\n",
      "iteration=800000, primal:235.74450, dual:226.68425, gap:9.06025\n",
      "iteration=900000, primal:237.35067, dual:226.99495, gap:10.35572\n",
      "training accuracy = 0.994751715785224\n"
     ]
    }
   ],
   "source": [
    "def coordinate_descent_for_svm_demo(y, A, trace=False):\n",
    "    max_iter = 1000000\n",
    "    lambda_ = 0.01\n",
    "    history = defaultdict(list) if trace else None\n",
    "    \n",
    "    num_examples, num_features = A.shape\n",
    "    w = np.zeros(num_features)\n",
    "    alpha = np.zeros(num_examples)\n",
    "    \n",
    "    for it in range(max_iter):\n",
    "        # i = sample one data point uniformly at random from the columns of A\n",
    "        i = random.randint(0,num_examples-1)\n",
    "        \n",
    "        w, alpha = calculate_coordinate_update(y, A, lambda_, alpha, w, i)\n",
    "            \n",
    "        if it % 100000 == 0:\n",
    "            # primal objective\n",
    "            primal_value = calculate_primal_objective(y, A, w, lambda_)\n",
    "            # dual objective\n",
    "            dual_value = calculate_dual_objective(y, A, w, alpha, lambda_)\n",
    "            # primal dual gap\n",
    "            duality_gap = primal_value - dual_value\n",
    "            \n",
    "            print('iteration=%i, primal:%.5f, dual:%.5f, gap:%.5f'%(\n",
    "                    it, primal_value, dual_value, duality_gap))\n",
    "        if it % 1000 == 0:\n",
    "            primal_value = calculate_primal_objective(y, A, w, lambda_)\n",
    "            if trace:\n",
    "                history[\"objective_function\"] += [primal_value]\n",
    "                history['iter'].append(it)\n",
    "\n",
    "            \n",
    "    print(\"training accuracy = {l}\".format(l=calculate_accuracy(y, A, w)))\n",
    "    return history\n",
    "\n",
    "history_cd = coordinate_descent_for_svm_demo(y, A, trace=True)"
   ]
  },
  {
   "cell_type": "code",
   "execution_count": 66,
   "metadata": {},
   "outputs": [
    {
     "data": {
      "text/plain": [
       "<matplotlib.legend.Legend at 0x2821b36bd08>"
      ]
     },
     "execution_count": 66,
     "metadata": {},
     "output_type": "execute_result"
    },
    {
     "data": {
      "image/png": "[encoded data removed]",
      "text/plain": [
       "<Figure size 432x288 with 1 Axes>"
      ]
     },
     "metadata": {
      "needs_background": "light"
     },
     "output_type": "display_data"
    }
   ],
   "source": [
    "# plot training curve\n",
    "plt.plot(history_cd[\"iter\"], history_cd[\"objective_function\"], label=\"Coordinate Descent\")\n",
    "plt.yscale('log')\n",
    "plt.legend()"
   ]
  },
  {
   "cell_type": "markdown",
   "metadata": {},
   "source": [
    "# Stochastic gradient descent for SVM"
   ]
  },
  {
   "cell_type": "markdown",
   "metadata": {},
   "source": [
    "Let's now compare it with SGD on original problem for the SVM. In this part, you will implement stochastic gradient descent on the primal SVM objective. The stochasticity comes from sampling data points."
   ]
  },
  {
   "cell_type": "code",
   "execution_count": 37,
   "metadata": {},
   "outputs": [],
   "source": [
    "def compute_stoch_gradient_svm(A_sample, b_sample, lambda_, w_t, num_data_points):\n",
    "    \"\"\"\n",
    "    Calculate stochastic gradient over A_batch, b_batch.\n",
    "    A_sample: A data sample, shape=(num_features)\n",
    "    b_sample: Corresponding +1 or -1 label, scalar\n",
    "    w_t: Model weights, shape=(num_features)\n",
    "    num_data_points: Total size of the dataset, scalar integer\n",
    "    \"\"\"\n",
    "    # ***************************************************\n",
    "    z = A_sample.dot(w_t) * b_sample\n",
    "    if z < 1:\n",
    "        gradient = (lambda_ * w_t) - (num_data_points * b_sample * A_sample)\n",
    "    else:\n",
    "        gradient = (lambda_ * w_t)\n",
    "    # ***************************************************\n",
    "    return gradient.reshape(-1)"
   ]
  },
  {
   "cell_type": "code",
   "execution_count": 38,
   "metadata": {},
   "outputs": [],
   "source": [
    "def stochastic_gradient_descent_svm_demo(A, b, gamma, batch_size=1, trace=False):\n",
    "    history = defaultdict(list) if trace else None\n",
    "    num_data_points, num_features = np.shape(A)\n",
    "    max_iter = 1000000\n",
    "    lambda_ = 0.01\n",
    "    \n",
    "    w_t = np.zeros(num_features)\n",
    "    \n",
    "    current_iter = 0\n",
    "    while (current_iter < max_iter):\n",
    "        i = random.randint(0,num_data_points - 1)\n",
    "        b_batch, A_batch = b[i], A[i]\n",
    "        gradient = compute_stoch_gradient_svm(A_batch, b_batch, lambda_, w_t, num_data_points)\n",
    "        w_t = w_t - gamma * gradient\n",
    "        if current_iter % 100000 == 0:\n",
    "            primal_value = calculate_primal_objective(y, A, w_t, lambda_)\n",
    "            print('iteration=%i, primal:%.5f'%(\n",
    "                    current_iter, primal_value))\n",
    "        if current_iter % 1000 == 0:\n",
    "            primal_value = calculate_primal_objective(y, A, w_t, lambda_)\n",
    "            if trace:\n",
    "                history['objective_function'].append(primal_value)\n",
    "                history['iter'].append(current_iter)\n",
    "        current_iter += 1\n",
    "    print(\"training accuracy = {l}\".format(l=calculate_accuracy(y, A, w_t)))\n",
    "    return history\n"
   ]
  },
  {
   "cell_type": "markdown",
   "metadata": {},
   "source": [
    "Try different stepsizes and find the best one"
   ]
  },
  {
   "cell_type": "code",
   "execution_count": 43,
   "metadata": {
    "scrolled": true
   },
   "outputs": [
    {
     "name": "stdout",
     "output_type": "stream",
     "text": [
      "Running SGD with lr= 0.1\n",
      "iteration=0, primal:2477.00000\n",
      "iteration=100000, primal:110097.59283\n",
      "iteration=200000, primal:66169.28576\n",
      "iteration=300000, primal:60418.10744\n",
      "iteration=400000, primal:66759.96304\n",
      "iteration=500000, primal:51609.27102\n",
      "iteration=600000, primal:56694.14760\n",
      "iteration=700000, primal:54628.00356\n",
      "iteration=800000, primal:59701.83805\n",
      "iteration=900000, primal:62832.66969\n",
      "training accuracy = 0.9604360113039968\n",
      "---------------------------------------------\n",
      "Running SGD with lr= 0.01\n",
      "iteration=0, primal:2704.13212\n",
      "iteration=100000, primal:2997.47830\n",
      "iteration=200000, primal:2902.55030\n",
      "iteration=300000, primal:2608.37200\n",
      "iteration=400000, primal:2990.86377\n",
      "iteration=500000, primal:3821.56364\n",
      "iteration=600000, primal:3999.55021\n",
      "iteration=700000, primal:2648.27864\n",
      "iteration=800000, primal:2887.71066\n",
      "iteration=900000, primal:2295.59859\n",
      "training accuracy = 0.9802180056519983\n",
      "---------------------------------------------\n",
      "Running SGD with lr= 0.05\n",
      "iteration=0, primal:7996.44112\n",
      "iteration=100000, primal:19427.61448\n",
      "iteration=200000, primal:14790.81258\n",
      "iteration=300000, primal:23330.29655\n",
      "iteration=400000, primal:38011.09413\n",
      "iteration=500000, primal:34758.62805\n",
      "iteration=600000, primal:26086.74112\n",
      "iteration=700000, primal:17469.29459\n",
      "iteration=800000, primal:22557.04987\n",
      "iteration=900000, primal:25115.32774\n",
      "training accuracy = 0.9729511505853855\n",
      "---------------------------------------------\n",
      "Running SGD with lr= 0.001\n",
      "iteration=0, primal:2477.00000\n",
      "iteration=100000, primal:390.66261\n",
      "iteration=200000, primal:368.84870\n",
      "iteration=300000, primal:361.60669\n",
      "iteration=400000, primal:364.48207\n",
      "iteration=500000, primal:409.86861\n",
      "iteration=600000, primal:393.81841\n",
      "iteration=700000, primal:391.60344\n",
      "iteration=800000, primal:384.84073\n",
      "iteration=900000, primal:351.65206\n",
      "training accuracy = 0.9899071457408155\n",
      "---------------------------------------------\n",
      "Running SGD with lr= 0.0005\n",
      "iteration=0, primal:1117.83303\n",
      "iteration=100000, primal:284.79567\n",
      "iteration=200000, primal:303.49552\n",
      "iteration=300000, primal:288.66791\n",
      "iteration=400000, primal:275.83349\n",
      "iteration=500000, primal:297.25770\n",
      "iteration=600000, primal:291.40584\n",
      "iteration=700000, primal:280.49232\n",
      "iteration=800000, primal:286.82717\n",
      "iteration=900000, primal:277.28330\n",
      "training accuracy = 0.9919257165926524\n",
      "---------------------------------------------\n"
     ]
    }
   ],
   "source": [
    "lrs = [0.1, 0.01, 0.05, 0.001, 0.0005]\n",
    "results = []\n",
    "for lr in lrs:\n",
    "    print('Running SGD with lr=', lr)\n",
    "    sgd = stochastic_gradient_descent_svm_demo(A, y, lr, trace=True)\n",
    "    results.append(sgd)\n",
    "    print('---------------------------------------------')"
   ]
  },
  {
   "cell_type": "markdown",
   "metadata": {},
   "source": [
    "Plot learning curves"
   ]
  },
  {
   "cell_type": "code",
   "execution_count": 59,
   "metadata": {},
   "outputs": [
    {
     "data": {
      "text/plain": [
       "<matplotlib.legend.Legend at 0x28219e54608>"
      ]
     },
     "execution_count": 59,
     "metadata": {},
     "output_type": "execute_result"
    },
    {
     "data": {
      "image/png": "[encoded data removed]",
      "text/plain": [
       "<Figure size 432x288 with 1 Axes>"
      ]
     },
     "metadata": {
      "needs_background": "light"
     },
     "output_type": "display_data"
    }
   ],
   "source": [
    "# plotting\n",
    "for i in range(len(results)):\n",
    "    sgd = results[i]\n",
    "    plt.plot(sgd[\"iter\"], sgd[\"objective_function\"], label=\"SGD lr = {:1.5f}\".format(lrs[i]))\n",
    "    plt.yscale('log')\n",
    "plt.legend()"
   ]
  },
  {
   "cell_type": "markdown",
   "metadata": {},
   "source": [
    "It seems that the first 3 learning rates are too big. \n",
    "Repeat experiment with even smaller learning rates (lr <= 0.001):"
   ]
  },
  {
   "cell_type": "code",
   "execution_count": 61,
   "metadata": {},
   "outputs": [
    {
     "name": "stdout",
     "output_type": "stream",
     "text": [
      "Running SGD with lr= 0.001\n",
      "iteration=0, primal:988.62016\n",
      "iteration=100000, primal:349.17183\n",
      "iteration=200000, primal:364.29257\n",
      "iteration=300000, primal:369.87797\n",
      "iteration=400000, primal:366.53268\n",
      "iteration=500000, primal:377.20163\n",
      "iteration=600000, primal:398.52138\n",
      "iteration=700000, primal:357.86760\n",
      "iteration=800000, primal:335.80020\n",
      "iteration=900000, primal:411.15856\n",
      "training accuracy = 0.9862737182075091\n",
      "---------------------------------------------\n",
      "Running SGD with lr= 0.0005\n",
      "iteration=0, primal:2234.06902\n",
      "iteration=100000, primal:283.66106\n",
      "iteration=200000, primal:385.30826\n",
      "iteration=300000, primal:284.98281\n",
      "iteration=400000, primal:295.02302\n",
      "iteration=500000, primal:290.33378\n",
      "iteration=600000, primal:287.14758\n",
      "iteration=700000, primal:287.17260\n",
      "iteration=800000, primal:277.65706\n",
      "iteration=900000, primal:304.45808\n",
      "training accuracy = 0.9903108599111828\n",
      "---------------------------------------------\n",
      "Running SGD with lr= 0.0001\n",
      "iteration=0, primal:2477.00000\n",
      "iteration=100000, primal:252.70261\n",
      "iteration=200000, primal:243.05037\n",
      "iteration=300000, primal:240.04018\n",
      "iteration=400000, primal:238.99765\n",
      "iteration=500000, primal:238.66440\n",
      "iteration=600000, primal:244.46554\n",
      "iteration=700000, primal:238.59503\n",
      "iteration=800000, primal:242.71816\n",
      "iteration=900000, primal:235.88044\n",
      "training accuracy = 0.9951554299555915\n",
      "---------------------------------------------\n",
      "Running SGD with lr= 5e-05\n",
      "iteration=0, primal:2330.37550\n",
      "iteration=100000, primal:254.48615\n",
      "iteration=200000, primal:243.52702\n",
      "iteration=300000, primal:237.63993\n",
      "iteration=400000, primal:237.11102\n",
      "iteration=500000, primal:235.35983\n",
      "iteration=600000, primal:234.34964\n",
      "iteration=700000, primal:234.18111\n",
      "iteration=800000, primal:234.55288\n",
      "iteration=900000, primal:233.14598\n",
      "training accuracy = 0.994751715785224\n",
      "---------------------------------------------\n",
      "Running SGD with lr= 1e-05\n",
      "iteration=0, primal:2377.12739\n",
      "iteration=100000, primal:276.42534\n",
      "iteration=200000, primal:259.53120\n",
      "iteration=300000, primal:252.75191\n",
      "iteration=400000, primal:249.99986\n",
      "iteration=500000, primal:247.15174\n",
      "iteration=600000, primal:243.67913\n",
      "iteration=700000, primal:241.48185\n",
      "iteration=800000, primal:239.45611\n",
      "iteration=900000, primal:237.73139\n",
      "training accuracy = 0.9939442874444893\n",
      "---------------------------------------------\n"
     ]
    }
   ],
   "source": [
    "lrs = [0.001, 0.0005, 0.0001, 0.00005, 0.00001]\n",
    "results = []\n",
    "for lr in lrs:\n",
    "    print('Running SGD with lr=', lr)\n",
    "    sgd = stochastic_gradient_descent_svm_demo(A, y, lr, trace=True)\n",
    "    results.append(sgd)\n",
    "    print('---------------------------------------------')"
   ]
  },
  {
   "cell_type": "code",
   "execution_count": 62,
   "metadata": {},
   "outputs": [
    {
     "data": {
      "text/plain": [
       "<matplotlib.legend.Legend at 0x2821a166948>"
      ]
     },
     "execution_count": 62,
     "metadata": {},
     "output_type": "execute_result"
    },
    {
     "data": {
      "image/png": "[encoded data removed]",
      "text/plain": [
       "<Figure size 432x288 with 1 Axes>"
      ]
     },
     "metadata": {
      "needs_background": "light"
     },
     "output_type": "display_data"
    }
   ],
   "source": [
    "# plotting\n",
    "for i in range(len(results)):\n",
    "    sgd = results[i]\n",
    "    plt.plot(sgd[\"iter\"], sgd[\"objective_function\"], label=\"SGD lr = {:f}\".format(lrs[i]))\n",
    "    plt.yscale('log')\n",
    "plt.legend()"
   ]
  },
  {
   "cell_type": "markdown",
   "metadata": {},
   "source": [
    "The best learning rates are 0.0001 with a training accuracy of 0.9951."
   ]
  },
  {
   "cell_type": "markdown",
   "metadata": {},
   "source": [
    "## Compare SGD with Coordinate Descent"
   ]
  },
  {
   "cell_type": "markdown",
   "metadata": {},
   "source": [
    "Compare two algorithms in terms of convergence, time complexities per iteration. Which one is easier to use?"
   ]
  },
  {
   "cell_type": "code",
   "execution_count": 64,
   "metadata": {},
   "outputs": [
    {
     "data": {
      "text/plain": [
       "<matplotlib.legend.Legend at 0x2821b229e88>"
      ]
     },
     "execution_count": 64,
     "metadata": {},
     "output_type": "execute_result"
    },
    {
     "data": {
      "image/png": "[encoded data removed]",
      "text/plain": [
       "<Figure size 432x288 with 1 Axes>"
      ]
     },
     "metadata": {
      "needs_background": "light"
     },
     "output_type": "display_data"
    }
   ],
   "source": [
    "# plot CD and best SGD for comparison\n",
    "\n",
    "#index of best lr\n",
    "i = 2\n",
    "plt.plot(results[i][\"iter\"], results[i][\"objective_function\"], label=\"SGD\")\n",
    "plt.plot(history_cd[\"iter\"], history_cd[\"objective_function\"], label=\"CD\")\n",
    "plt.yscale('log')\n",
    "plt.legend()"
   ]
  },
  {
   "cell_type": "markdown",
   "metadata": {},
   "source": [
    "We can observe that the convergence of CD is a bit not stable at the beginning. However, it manages to converge at nearly the same iteration as the SGD, even though for SGD we have tunned the learning rate. Both methods have the same time complexity per iteration."
   ]
  }
 ],
 "metadata": {
  "anaconda-cloud": {},
  "kernelspec": {
   "display_name": "Python 3",
   "language": "python",
   "name": "python3"
  },
  "language_info": {
   "codemirror_mode": {
    "name": "ipython",
    "version": 3
   },
   "file_extension": ".py",
   "mimetype": "text/x-python",
   "name": "python",
   "nbconvert_exporter": "python",
   "pygments_lexer": "ipython3",
   "version": "3.7.4"
  },
  "toc": {
   "base_numbering": 1,
   "nav_menu": {},
   "number_sections": true,
   "sideBar": true,
   "skip_h1_title": false,
   "title_cell": "Table of Contents",
   "title_sidebar": "Contents",
   "toc_cell": false,
   "toc_position": {},
   "toc_section_display": true,
   "toc_window_display": false
  }
 },
 "nbformat": 4,
 "nbformat_minor": 1
}
