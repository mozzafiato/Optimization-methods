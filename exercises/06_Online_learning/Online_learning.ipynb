{
 "cells": [
  {
   "cell_type": "markdown",
   "metadata": {},
   "source": [
    "# Learning from experts"
   ]
  },
  {
   "cell_type": "code",
   "execution_count": 37,
   "metadata": {},
   "outputs": [],
   "source": [
    "import numpy as np\n",
    "import numpy.random as random\n",
    "import matplotlib.pyplot as plt"
   ]
  },
  {
   "cell_type": "code",
   "execution_count": 102,
   "metadata": {},
   "outputs": [],
   "source": [
    "# number of experts\n",
    "n = 100\n",
    "# number of rounds played\n",
    "T = 10000"
   ]
  },
  {
   "cell_type": "markdown",
   "metadata": {},
   "source": [
    "## Problem setup"
   ]
  },
  {
   "cell_type": "markdown",
   "metadata": {},
   "source": [
    "We assume the existance of a set of predetermined answers: *Yes* or *No*."
   ]
  },
  {
   "cell_type": "code",
   "execution_count": 103,
   "metadata": {},
   "outputs": [],
   "source": [
    "list_of_correct_answers = random.choice([False, True], T)\n",
    "probs = [random.random()**(1/2) for _ in range(n)]"
   ]
  },
  {
   "cell_type": "markdown",
   "metadata": {},
   "source": [
    "Every expert gets a probability with which they give a wrong answer."
   ]
  },
  {
   "cell_type": "code",
   "execution_count": 112,
   "metadata": {},
   "outputs": [],
   "source": [
    "def get_expert_answers(n, true_answer, probs):\n",
    "    \"\"\"Generate expert answers based on the true answer and a given probability \n",
    "    of lying for each expert.\"\"\"\n",
    "    expert_answers = np.empty_like(probs, dtype=bool)\n",
    "    rnd = random.random(n)\n",
    "    experts_that_lie = (rnd <= probs)\n",
    "    expert_answers[experts_that_lie] = np.logical_not(true_answer)\n",
    "    expert_answers[~experts_that_lie] = true_answer\n",
    "    \n",
    "    return expert_answers"
   ]
  },
  {
   "cell_type": "markdown",
   "metadata": {},
   "source": [
    "## The algorithm"
   ]
  },
  {
   "cell_type": "markdown",
   "metadata": {},
   "source": [
    "If an expert $i$ is wrong its weight for the next round gets decreased according to the rule:\n",
    "$$w_{t+1}(i) = w_t(i) (1-\\alpha).$$\n",
    "\n",
    "The next method implements the *randomized and the deterministic* method via the `randomized` flag."
   ]
  },
  {
   "cell_type": "code",
   "execution_count": 113,
   "metadata": {},
   "outputs": [],
   "source": [
    "def WMA(n, T, probs, list_of_correct_answers, alpha=0.1, randomized=False):\n",
    "    \"\"\"Run the weighted majority algorithm with `n` experts for `T` timesteps\"\"\"\n",
    "    \n",
    "    # initialize weights\n",
    "    weights = np.ones(n)\n",
    "    numof_your_mistakes = 0\n",
    "    numof_expert_mistakes = np.zeros((n,T+1))\n",
    "    \n",
    "    # initialize regret\n",
    "    regret = np.zeros(T)\n",
    "    \n",
    "    for t in range(T):       \n",
    "        true_answer = list_of_correct_answers[t]\n",
    "        expert_answers = get_expert_answers(n, true_answer, probs)\n",
    "        your_answer = form_your_answer(expert_answers, weights, randomized)\n",
    "          \n",
    "        # check result      \n",
    "        if your_answer != true_answer:\n",
    "            numof_your_mistakes += 1\n",
    "            \n",
    "        # update weights and expert mistakes\n",
    "        wrong = expert_answers != true_answer\n",
    "        numof_expert_mistakes[wrong, t+1] = numof_expert_mistakes[wrong, t]+1\n",
    "        numof_expert_mistakes[~wrong, t+1] = numof_expert_mistakes[~wrong, t]\n",
    "        weights[expert_answers != true_answer] *= 1-alpha\n",
    "        \n",
    "        # store regret value at t\n",
    "        regret[t] = numof_your_mistakes - min(numof_expert_mistakes[:, t+1])\n",
    "                \n",
    "    return numof_your_mistakes, numof_expert_mistakes, regret     "
   ]
  },
  {
   "cell_type": "markdown",
   "metadata": {},
   "source": [
    "The next function is just part of WMA."
   ]
  },
  {
   "cell_type": "code",
   "execution_count": 75,
   "metadata": {},
   "outputs": [],
   "source": [
    "def form_your_answer(expert_answers, weights, randomized):\n",
    "    \"\"\"Return your answer in one round of the (randomized) WMA algorithm based \n",
    "    on the answers of the experts and the corresponding weights\"\"\"\n",
    "\n",
    "    if randomized:\n",
    "        # compute norm of weights\n",
    "        w_norm = np.linalg.norm(weights, 1)\n",
    "        # compute probabilities\n",
    "        probs_ = np.zeros(len(weights))\n",
    "        for i in range(0, len(weights)):\n",
    "            probs_[i] = weights[i] / w_norm\n",
    "        # pick the answer of a random expert\n",
    "        your_answer = random.choice(expert_answers, size=1, p=probs_)\n",
    "    else:          \n",
    "        weight_yes = weights[expert_answers].sum()\n",
    "        weight_no = len(weights) - weight_yes\n",
    "        your_answer = True if weight_yes > weight_no else False\n",
    "            \n",
    "    return your_answer"
   ]
  },
  {
   "cell_type": "markdown",
   "metadata": {},
   "source": [
    "## Experiments"
   ]
  },
  {
   "cell_type": "code",
   "execution_count": 105,
   "metadata": {},
   "outputs": [],
   "source": [
    "alpha = 0.1\n",
    "my_mistakes_det, expert_mistakes_det, regret = WMA(n, T, probs, list_of_correct_answers, alpha)"
   ]
  },
  {
   "cell_type": "code",
   "execution_count": 106,
   "metadata": {},
   "outputs": [
    {
     "name": "stdout",
     "output_type": "stream",
     "text": [
      "I made 4973 mistakes.\n",
      "Best expert had 891.0 mistakes\n"
     ]
    }
   ],
   "source": [
    "print(f'I made {my_mistakes_det} mistakes.')\n",
    "print(f'Best expert had {np.min(expert_mistakes_det[:, -1])} mistakes')"
   ]
  },
  {
   "cell_type": "code",
   "execution_count": 107,
   "metadata": {},
   "outputs": [
    {
     "data": {
      "image/png": "[encoded data removed]",
      "text/plain": [
       "<Figure size 432x288 with 1 Axes>"
      ]
     },
     "metadata": {
      "needs_background": "light"
     },
     "output_type": "display_data"
    }
   ],
   "source": [
    "plt.plot(range(1, T+1), regret)\n",
    "plt.title(\"Regret: WMA\")\n",
    "plt.xlabel(\"round t\")\n",
    "plt.ylabel(\"R(t)\")\n",
    "plt.show()"
   ]
  },
  {
   "cell_type": "code",
   "execution_count": 108,
   "metadata": {},
   "outputs": [],
   "source": [
    "my_mistakes_rand, expert_mistakes_rand, regret_rand = WMA(n, T, probs, list_of_correct_answers, alpha, randomized=True)"
   ]
  },
  {
   "cell_type": "code",
   "execution_count": 109,
   "metadata": {},
   "outputs": [
    {
     "name": "stdout",
     "output_type": "stream",
     "text": [
      "I made 926 mistakes.\n",
      "Best expert had 875.0 mistakes\n"
     ]
    }
   ],
   "source": [
    "print(f'I made {my_mistakes_rand} mistakes.')\n",
    "print(f'Best expert had {np.min(expert_mistakes_rand[:, -1])} mistakes')"
   ]
  },
  {
   "cell_type": "code",
   "execution_count": 110,
   "metadata": {},
   "outputs": [
    {
     "data": {
      "image/png": "[encoded data removed]",
      "text/plain": [
       "<Figure size 432x288 with 1 Axes>"
      ]
     },
     "metadata": {
      "needs_background": "light"
     },
     "output_type": "display_data"
    }
   ],
   "source": [
    "plt.plot(range(1, T+1), regret_rand)\n",
    "plt.title(\"Regret: Randomized WMA\")\n",
    "plt.xlabel(\"round t\")\n",
    "plt.ylabel(\"R(t)\")\n",
    "plt.show()"
   ]
  },
  {
   "cell_type": "markdown",
   "metadata": {},
   "source": [
    "# Tasks"
   ]
  },
  {
   "cell_type": "markdown",
   "metadata": {},
   "source": [
    "TODO:\n",
    "- finish the `form_your_answer` function\n",
    "- plot the regret and experiment with number of rounds / experts / $\\alpha$\n",
    "\n",
    "Bonus points: If you do any of the following\n",
    "\n",
    "- try different strategies for the experts (not just random lying)\n",
    "    + you could try and manually \"hardcode\" an adversary that bases their strategy on your answer (always tells the truth until they have the highest weight, then they start lying)\n",
    "- implement the multiplicative weights algorithm (i.e. allow for general losses, not just 0/1) and run similar experiments"
   ]
  },
  {
   "cell_type": "code",
   "execution_count": 119,
   "metadata": {},
   "outputs": [
    {
     "name": "stdout",
     "output_type": "stream",
     "text": [
      "Experiment 1\n",
      "I made 525 mistakes.\n",
      "Best expert had 60.0 mistakes\n",
      "Experiment 2\n",
      "I made 502 mistakes.\n",
      "Best expert had 14.0 mistakes\n",
      "Experiment 3\n",
      "I made 533 mistakes.\n",
      "Best expert had 197.0 mistakes\n"
     ]
    }
   ],
   "source": [
    "# more experiment\n",
    "def do_experiment(n, T, alpha, randomized=False):\n",
    "    correct_answers = random.choice([False, True], T)\n",
    "    probs = [random.random()**(1/2) for _ in range(n)]\n",
    "    \n",
    "    my_mistakes, expert_mistakes, regret = WMA(n, T, probs, correct_answers, alpha, randomized)\n",
    "    \n",
    "    print(f'I made {my_mistakes} mistakes.')\n",
    "    print(f'Best expert had {np.min(expert_mistakes[:, -1])} mistakes')\n",
    "    \n",
    "    return my_mistakes, expert_mistakes, regret\n",
    "\n",
    "T = 1000\n",
    "print('Experiment 1')\n",
    "my_mistakes1, expert_mistakes1, regret1 = do_experiment(500, 1000, 0.3)\n",
    "\n",
    "print('Experiment 2')\n",
    "my_mistakes2, expert_mistakes2, regret2 = do_experiment(10000, 1000, 0.1)\n",
    "\n",
    "print('Experiment 3')\n",
    "my_mistakes3, expert_mistakes3, regret3 = do_experiment(10, 1000, 0.2)"
   ]
  },
  {
   "cell_type": "code",
   "execution_count": 121,
   "metadata": {},
   "outputs": [
    {
     "data": {
      "image/png": "[encoded data removed]",
      "text/plain": [
       "<Figure size 432x288 with 1 Axes>"
      ]
     },
     "metadata": {
      "needs_background": "light"
     },
     "output_type": "display_data"
    }
   ],
   "source": [
    "T = 1000\n",
    "plt.plot(range(1, T+1), regret1, label = \"n = 500, alpha = 0.3\")\n",
    "plt.plot(range(1, T+1), regret2, label = \"n = 10000, alpha = 0.1\")\n",
    "plt.plot(range(1, T+1), regret3, label = \"n = 10, alpha = 0.2\")\n",
    "plt.title(\"Regret: Randomized WMA, T = 1000\")\n",
    "plt.xlabel(\"round t\")\n",
    "plt.ylabel(\"R(t)\")\n",
    "plt.legend()\n",
    "plt.show()"
   ]
  }
 ],
 "metadata": {
  "kernelspec": {
   "display_name": "Python 3",
   "language": "python",
   "name": "python3"
  },
  "language_info": {
   "codemirror_mode": {
    "name": "ipython",
    "version": 3
   },
   "file_extension": ".py",
   "mimetype": "text/x-python",
   "name": "python",
   "nbconvert_exporter": "python",
   "pygments_lexer": "ipython3",
   "version": "3.7.4"
  }
 },
 "nbformat": 4,
 "nbformat_minor": 4
}
