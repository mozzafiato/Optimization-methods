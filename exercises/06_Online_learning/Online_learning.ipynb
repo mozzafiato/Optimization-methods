{
 "cells": [
  {
   "cell_type": "markdown",
   "metadata": {},
   "source": [
    "# Learning from experts"
   ]
  },
  {
   "cell_type": "code",
   "execution_count": 30,
   "metadata": {
    "pycharm": {
     "is_executing": false
    }
   },
   "outputs": [],
   "source": [
    "import numpy as np\n",
    "import numpy.random as random\n",
    "import matplotlib.pyplot as plt"
   ]
  },
  {
   "cell_type": "code",
   "execution_count": 31,
   "metadata": {},
   "outputs": [],
   "source": [
    "# number of experts\n",
    "n = 100\n",
    "# number of rounds played\n",
    "T = 10000"
   ]
  },
  {
   "cell_type": "markdown",
   "metadata": {},
   "source": [
    "## Problem setup"
   ]
  },
  {
   "cell_type": "markdown",
   "metadata": {},
   "source": [
    "We assume the existance of a set of predetermined answers: *Yes* or *No*."
   ]
  },
  {
   "cell_type": "code",
   "execution_count": 32,
   "metadata": {},
   "outputs": [],
   "source": [
    "list_of_correct_answers = random.choice([False, True], T)\n",
    "probs = [random.random()**(1/2) for _ in range(n)]"
   ]
  },
  {
   "cell_type": "markdown",
   "metadata": {},
   "source": [
    "Every expert gets a probability with which they give a wrong answer."
   ]
  },
  {
   "cell_type": "code",
   "execution_count": 33,
   "metadata": {},
   "outputs": [],
   "source": [
    "def get_expert_answers(n, true_answer, probs):\n",
    "    \"\"\"Generate expert answers based on the true answer and a given probability \n",
    "    of lying for each expert.\"\"\"\n",
    "    expert_answers = np.empty_like(probs, dtype=bool)\n",
    "    rnd = random.random(n)\n",
    "    experts_that_lie = (rnd <= probs)\n",
    "    expert_answers[experts_that_lie] = np.logical_not(true_answer)\n",
    "    expert_answers[~experts_that_lie] = true_answer\n",
    "    \n",
    "    return expert_answers"
   ]
  },
  {
   "cell_type": "markdown",
   "metadata": {},
   "source": [
    "## The algorithm"
   ]
  },
  {
   "cell_type": "markdown",
   "metadata": {},
   "source": [
    "If an expert $i$ is wrong its weight for the next round gets decreased according to the rule:\n",
    "$$w_{t+1}(i) = w_t(i) (1-\\alpha).$$\n",
    "\n",
    "The next method implements the *randomized and the deterministic* method via the `randomized` flag."
   ]
  },
  {
   "cell_type": "code",
   "execution_count": 34,
   "metadata": {},
   "outputs": [],
   "source": [
    "def WMA(n, T, probs, list_of_correct_answers, alpha=0.1, randomized=False):\n",
    "    \"\"\"Run the weighted majority algorithm with `n` experts for `T` timesteps\"\"\"\n",
    "    \n",
    "    # initialize weights\n",
    "    weights = np.ones(n)\n",
    "    numof_your_mistakes = 0\n",
    "    numof_expert_mistakes = np.zeros((n,T+1))\n",
    "    \n",
    "    # initialize regret\n",
    "    regret = np.zeros(T)\n",
    "    \n",
    "    for t in range(T):       \n",
    "        true_answer = list_of_correct_answers[t]\n",
    "        expert_answers = get_expert_answers(n, true_answer, probs)\n",
    "        your_answer = form_your_answer(expert_answers, weights, randomized)\n",
    "          \n",
    "        # check result      \n",
    "        if your_answer != true_answer:\n",
    "            numof_your_mistakes += 1\n",
    "            \n",
    "        # update weights and expert mistakes\n",
    "        wrong = expert_answers != true_answer\n",
    "        numof_expert_mistakes[wrong, t+1] = numof_expert_mistakes[wrong, t]+1\n",
    "        numof_expert_mistakes[~wrong, t+1] = numof_expert_mistakes[~wrong, t]\n",
    "        weights[expert_answers != true_answer] *= 1-alpha\n",
    "        \n",
    "        # store regret value at t\n",
    "        regret[t] = numof_your_mistakes - min(numof_expert_mistakes[:, t+1])\n",
    "                \n",
    "    return numof_your_mistakes, numof_expert_mistakes, regret     "
   ]
  },
  {
   "cell_type": "markdown",
   "metadata": {},
   "source": [
    "The next function is just part of WMA."
   ]
  },
  {
   "cell_type": "code",
   "execution_count": 35,
   "metadata": {},
   "outputs": [],
   "source": [
    "def form_your_answer(expert_answers, weights, randomized):\n",
    "    \"\"\"Return your answer in one round of the (randomized) WMA algorithm based \n",
    "    on the answers of the experts and the corresponding weights\"\"\"\n",
    "\n",
    "    if randomized:\n",
    "        # compute norm of weights\n",
    "        w_norm = np.linalg.norm(weights, 1)\n",
    "        # compute probabilities\n",
    "        probs_ = np.zeros(len(weights))\n",
    "        for i in range(0, len(weights)):\n",
    "            probs_[i] = weights[i] / w_norm\n",
    "        \n",
    "        prob_yes = probs_[expert_answers].sum()\n",
    "        prob_no = probs_[~expert_answers].sum()\n",
    "        \n",
    "        # pick the answer of a random expert\n",
    "        your_answer = random.choice([True, False], size=1, p=[prob_yes, prob_no])\n",
    "    else:          \n",
    "        weight_yes = weights[expert_answers].sum()\n",
    "        weight_no = weights[~expert_answers].sum()\n",
    "        your_answer = True if weight_yes > weight_no else False\n",
    "            \n",
    "    return your_answer"
   ]
  },
  {
   "cell_type": "markdown",
   "metadata": {},
   "source": [
    "## Experiments"
   ]
  },
  {
   "cell_type": "code",
   "execution_count": 36,
   "metadata": {},
   "outputs": [],
   "source": [
    "alpha = 0.1\n",
    "my_mistakes_det, expert_mistakes_det, regret = WMA(n, T, probs, list_of_correct_answers, alpha)"
   ]
  },
  {
   "cell_type": "code",
   "execution_count": 37,
   "metadata": {},
   "outputs": [
    {
     "name": "stdout",
     "output_type": "stream",
     "text": [
      "I made 825 mistakes.\n",
      "Best expert had 792.0 mistakes\n"
     ]
    }
   ],
   "source": [
    "print(f'I made {my_mistakes_det} mistakes.')\n",
    "print(f'Best expert had {np.min(expert_mistakes_det[:, -1])} mistakes')"
   ]
  },
  {
   "cell_type": "code",
   "execution_count": 38,
   "metadata": {},
   "outputs": [
    {
     "data": {
      "image/png": "[encoded data removed]",
      "text/plain": [
       "<Figure size 432x288 with 1 Axes>"
      ]
     },
     "metadata": {
      "needs_background": "light"
     },
     "output_type": "display_data"
    }
   ],
   "source": [
    "plt.plot(range(1, T+1), regret)\n",
    "plt.title(\"Regret: WMA\")\n",
    "plt.xlabel(\"round t\")\n",
    "plt.ylabel(\"R(t)\")\n",
    "plt.show()"
   ]
  },
  {
   "cell_type": "code",
   "execution_count": 39,
   "metadata": {},
   "outputs": [],
   "source": [
    "my_mistakes_rand, expert_mistakes_rand, regret_rand = WMA(n, T, probs, list_of_correct_answers, alpha, randomized=True)"
   ]
  },
  {
   "cell_type": "code",
   "execution_count": 40,
   "metadata": {},
   "outputs": [
    {
     "name": "stdout",
     "output_type": "stream",
     "text": [
      "I made 812 mistakes.\n",
      "Best expert had 770.0 mistakes\n"
     ]
    }
   ],
   "source": [
    "print(f'I made {my_mistakes_rand} mistakes.')\n",
    "print(f'Best expert had {np.min(expert_mistakes_rand[:, -1])} mistakes')"
   ]
  },
  {
   "cell_type": "code",
   "execution_count": 41,
   "metadata": {},
   "outputs": [
    {
     "data": {
      "image/png": "[encoded data removed]",
      "text/plain": [
       "<Figure size 432x288 with 1 Axes>"
      ]
     },
     "metadata": {
      "needs_background": "light"
     },
     "output_type": "display_data"
    }
   ],
   "source": [
    "plt.plot(range(1, T+1), regret_rand)\n",
    "plt.title(\"Regret: Randomized WMA\")\n",
    "plt.xlabel(\"round t\")\n",
    "plt.ylabel(\"R(t)\")\n",
    "plt.show()"
   ]
  },
  {
   "cell_type": "markdown",
   "metadata": {},
   "source": [
    "# Tasks"
   ]
  },
  {
   "cell_type": "markdown",
   "metadata": {},
   "source": [
    "TODO:\n",
    "- finish the `form_your_answer` function\n",
    "- plot the regret and experiment with number of rounds / experts / $\\alpha$\n",
    "\n",
    "Bonus points: If you do any of the following\n",
    "\n",
    "- try different strategies for the experts (not just random lying)\n",
    "    + you could try and manually \"hardcode\" an adversary that bases their strategy on your answer (always tells the truth until they have the highest weight, then they start lying)\n",
    "- implement the multiplicative weights algorithm (i.e. allow for general losses, not just 0/1) and run similar experiments"
   ]
  },
  {
   "cell_type": "code",
   "execution_count": 42,
   "metadata": {},
   "outputs": [],
   "source": [
    "# more experiments\n",
    "def do_experiment(n, T, alpha, randomized=False):\n",
    "    correct_answers = random.choice([False, True], T)\n",
    "    probs = [random.random()**(1/2) for _ in range(n)]\n",
    "    \n",
    "    my_mistakes, expert_mistakes, regret = WMA(n, T, probs, correct_answers, alpha, randomized)\n",
    "    \n",
    "    print(f'I made {my_mistakes} mistakes.')\n",
    "    print(f'Best expert had {np.min(expert_mistakes[:, -1])} mistakes')\n",
    "    \n",
    "    return my_mistakes, expert_mistakes, regret\n"
   ]
  },
  {
   "cell_type": "code",
   "execution_count": 43,
   "metadata": {},
   "outputs": [
    {
     "name": "stdout",
     "output_type": "stream",
     "text": [
      "Experiment 1\n",
      "I made 83 mistakes.\n",
      "Best expert had 76.0 mistakes\n",
      "Experiment 2\n",
      "I made 25 mistakes.\n",
      "Best expert had 7.0 mistakes\n",
      "Experiment 3\n",
      "I made 280 mistakes.\n",
      "Best expert had 273.0 mistakes\n"
     ]
    }
   ],
   "source": [
    "T = 1000\n",
    "\n",
    "print('Experiment 1')\n",
    "my_mistakes1, expert_mistakes1, regret1 = do_experiment(500, 1000, 0.3)\n",
    "\n",
    "print('Experiment 2')\n",
    "my_mistakes2, expert_mistakes2, regret2 = do_experiment(10000, 1000, 0.1)\n",
    "\n",
    "print('Experiment 3')\n",
    "my_mistakes3, expert_mistakes3, regret3 = do_experiment(10, 1000, 0.2)"
   ]
  },
  {
   "cell_type": "code",
   "execution_count": 44,
   "metadata": {},
   "outputs": [
    {
     "data": {
      "image/png": "[encoded data removed]",
      "text/plain": [
       "<Figure size 432x288 with 1 Axes>"
      ]
     },
     "metadata": {
      "needs_background": "light"
     },
     "output_type": "display_data"
    }
   ],
   "source": [
    "plt.plot(range(1, T+1), regret1, label = \"n = 500, alpha = 0.3\")\n",
    "plt.plot(range(1, T+1), regret2, label = \"n = 10000, alpha = 0.1\")\n",
    "plt.plot(range(1, T+1), regret3, label = \"n = 10, alpha = 0.2\")\n",
    "plt.title(\"Regret: WMA, T = 1000\")\n",
    "plt.xlabel(\"round t\")\n",
    "plt.ylabel(\"R(t)\")\n",
    "plt.legend()\n",
    "plt.show()"
   ]
  },
  {
   "cell_type": "code",
   "execution_count": 45,
   "metadata": {},
   "outputs": [],
   "source": [
    "# different expert strategy\n",
    "\n",
    "def get_expert_answers(n, true_answer, probs, weights):\n",
    "    \"\"\"Generate expert answers based on the true answer and a given probability \n",
    "    of lying for each expert.\"\"\"\n",
    "    expert_answers = np.empty_like(probs, dtype=bool)\n",
    "    rnd = random.random(n)\n",
    "    experts_that_lie = (rnd <= probs)\n",
    "    expert_answers[experts_that_lie] = np.logical_not(true_answer)\n",
    "    expert_answers[~experts_that_lie] = true_answer\n",
    "    \n",
    "    # get the expert with the highest weight and let him start lying\n",
    "    best_expert = np.argmax(weights)\n",
    "    expert_answers[best_expert] = np.logical_not(true_answer)\n",
    "    \n",
    "    return expert_answers"
   ]
  },
  {
   "cell_type": "code",
   "execution_count": 46,
   "metadata": {},
   "outputs": [],
   "source": [
    "def WMA(n, T, probs, list_of_correct_answers, alpha=0.1, randomized=False):\n",
    "    \"\"\"Run the weighted majority algorithm with `n` experts for `T` timesteps\"\"\"\n",
    "    \n",
    "    # initialize weights\n",
    "    weights = np.ones(n)\n",
    "    numof_your_mistakes = 0\n",
    "    numof_expert_mistakes = np.zeros((n,T+1))\n",
    "    \n",
    "    # initialize regret\n",
    "    regret = np.zeros(T)\n",
    "    \n",
    "    for t in range(T):       \n",
    "        true_answer = list_of_correct_answers[t]\n",
    "        expert_answers = get_expert_answers(n, true_answer, probs, weights)\n",
    "        your_answer = form_your_answer(expert_answers, weights, randomized)\n",
    "          \n",
    "        # check result      \n",
    "        if your_answer != true_answer:\n",
    "            numof_your_mistakes += 1\n",
    "            \n",
    "        # update weights and expert mistakes\n",
    "        wrong = expert_answers != true_answer\n",
    "        numof_expert_mistakes[wrong, t+1] = numof_expert_mistakes[wrong, t]+1\n",
    "        numof_expert_mistakes[~wrong, t+1] = numof_expert_mistakes[~wrong, t]\n",
    "        weights[expert_answers != true_answer] *= 1-alpha\n",
    "        \n",
    "        # store regret value at t\n",
    "        regret[t] = numof_your_mistakes - min(numof_expert_mistakes[:, t+1])\n",
    "                \n",
    "    return numof_your_mistakes, numof_expert_mistakes, regret     "
   ]
  },
  {
   "cell_type": "code",
   "execution_count": 47,
   "metadata": {},
   "outputs": [
    {
     "name": "stdout",
     "output_type": "stream",
     "text": [
      "Experiment 4\n",
      "I made 8 mistakes.\n",
      "Best expert had 159.0 mistakes\n",
      "Experiment 5\n",
      "I made 25 mistakes.\n",
      "Best expert had 58.0 mistakes\n",
      "Experiment 6\n",
      "I made 791 mistakes.\n",
      "Best expert had 652.0 mistakes\n"
     ]
    }
   ],
   "source": [
    "T = 1000\n",
    "\n",
    "print('Experiment 4')\n",
    "my_mistakes4, expert_mistakes4, regret4 = do_experiment(500, 1000, 0.3)\n",
    "\n",
    "print('Experiment 5')\n",
    "my_mistakes5, expert_mistakes5, regret5 = do_experiment(10000, 1000, 0.1)\n",
    "\n",
    "print('Experiment 6')\n",
    "my_mistakes6, expert_mistakes6, regret6 = do_experiment(10, 1000, 0.2)"
   ]
  },
  {
   "cell_type": "code",
   "execution_count": 48,
   "metadata": {},
   "outputs": [
    {
     "data": {
      "image/png": "[encoded data removed]",
      "text/plain": [
       "<Figure size 432x288 with 1 Axes>"
      ]
     },
     "metadata": {
      "needs_background": "light"
     },
     "output_type": "display_data"
    }
   ],
   "source": [
    "plt.plot(range(1, T+1), regret4, label = \"n = 500, alpha = 0.3\")\n",
    "plt.plot(range(1, T+1), regret5, label = \"n = 10000, alpha = 0.1\")\n",
    "plt.plot(range(1, T+1), regret6, label = \"n = 10, alpha = 0.2\")\n",
    "plt.title(\"Regret: WMA, T = 1000, different strategy\")\n",
    "plt.xlabel(\"round t\")\n",
    "plt.ylabel(\"R(t)\")\n",
    "plt.legend()\n",
    "plt.show()"
   ]
  },
  {
   "cell_type": "code",
   "execution_count": 49,
   "metadata": {},
   "outputs": [
    {
     "name": "stdout",
     "output_type": "stream",
     "text": [
      "Experiment 7\n",
      "I made 1946 mistakes.\n",
      "Best expert had 1733.0 mistakes\n",
      "Experiment 8\n",
      "I made 711 mistakes.\n",
      "Best expert had 640.0 mistakes\n",
      "Experiment 9\n",
      "I made 7541 mistakes.\n",
      "Best expert had 5433.0 mistakes\n"
     ]
    }
   ],
   "source": [
    "# try new strategy with randomized wma, more rounds\n",
    "\n",
    "T = 10000\n",
    "\n",
    "print('Experiment 7')\n",
    "my_mistakes7, expert_mistakes7, regret7 = do_experiment(500, T, 0.3, randomized=True)\n",
    "\n",
    "print('Experiment 8')\n",
    "my_mistakes8, expert_mistakes8, regret8 = do_experiment(10000, T, 0.1, randomized=True)\n",
    "\n",
    "print('Experiment 9')\n",
    "my_mistakes9, expert_mistakes9, regret9 = do_experiment(10, T, 0.2, randomized=True)"
   ]
  },
  {
   "cell_type": "code",
   "execution_count": 50,
   "metadata": {},
   "outputs": [
    {
     "data": {
      "image/png": "[encoded data removed]",
      "text/plain": [
       "<Figure size 432x288 with 1 Axes>"
      ]
     },
     "metadata": {
      "needs_background": "light"
     },
     "output_type": "display_data"
    }
   ],
   "source": [
    "plt.plot(range(1, T+1), regret7, label = \"n = 500, alpha = 0.3\")\n",
    "plt.plot(range(1, T+1), regret8, label = \"n = 10000, alpha = 0.1\")\n",
    "plt.plot(range(1, T+1), regret9, label = \"n = 10, alpha = 0.2\")\n",
    "plt.title(\"Regret: Randomized WMA, T = 1000, different strategy\")\n",
    "plt.xlabel(\"round t\")\n",
    "plt.ylabel(\"R(t)\")\n",
    "plt.legend()\n",
    "plt.show()"
   ]
  }
 ],
 "metadata": {
  "kernelspec": {
   "display_name": "Python 3",
   "language": "python",
   "name": "python3"
  },
  "language_info": {
   "codemirror_mode": {
    "name": "ipython",
    "version": 3
   },
   "file_extension": ".py",
   "mimetype": "text/x-python",
   "name": "python",
   "nbconvert_exporter": "python",
   "pygments_lexer": "ipython3",
   "version": "3.7.4"
  }
 },
 "nbformat": 4,
 "nbformat_minor": 4
}
