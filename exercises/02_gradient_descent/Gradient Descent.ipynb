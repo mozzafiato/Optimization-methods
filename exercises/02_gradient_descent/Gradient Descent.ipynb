{
 "cells": [
  {
   "cell_type": "code",
   "execution_count": 1,
   "metadata": {
    "pycharm": {
     "is_executing": true
    }
   },
   "outputs": [],
   "source": [
    "# Useful starting lines\n",
    "%matplotlib inline\n",
    "import numpy as np\n",
    "import matplotlib.pyplot as plt\n",
    "import datetime\n",
    "from sklearn.datasets import make_regression"
   ]
  },
  {
   "cell_type": "code",
   "execution_count": 2,
   "metadata": {
    "pycharm": {
     "is_executing": false
    }
   },
   "outputs": [
    {
     "name": "stdout",
     "output_type": "stream",
     "text": [
      "You are running Python 3. Good job :)\n"
     ]
    }
   ],
   "source": [
    "# Check the Python version\n",
    "import sys\n",
    "if sys.version.startswith(\"3.\"):\n",
    "  print(\"You are running Python 3. Good job :)\")\n",
    "else:\n",
    "  print(\"This notebook requires Python 3.\\nIf you are using Google Colab, go to Runtime > Change runtime type and choose Python 3.\")"
   ]
  },
  {
   "cell_type": "markdown",
   "metadata": {},
   "source": [
    "# Load the data"
   ]
  },
  {
   "cell_type": "markdown",
   "metadata": {},
   "source": [
    "Generate a random regression problem. `xstar` is the true solution of the underlying linear model."
   ]
  },
  {
   "cell_type": "code",
   "execution_count": 3,
   "metadata": {},
   "outputs": [],
   "source": [
    "A, b, xstar = make_regression(n_samples=10000, n_features=10, coef=True)"
   ]
  },
  {
   "cell_type": "code",
   "execution_count": 4,
   "metadata": {},
   "outputs": [
    {
     "name": "stdout",
     "output_type": "stream",
     "text": [
      "Number of samples n =  10000\n",
      "Dimension of each sample d =  10\n"
     ]
    }
   ],
   "source": [
    "print('Number of samples n = ', b.shape[0])\n",
    "print('Dimension of each sample d = ', A.shape[1])"
   ]
  },
  {
   "cell_type": "markdown",
   "metadata": {},
   "source": [
    "# Least Squares Estimation\n",
    "Least squares estimation is one of the fundamental machine learning algorithms. Given an $ n \\times d $ matrix $A$ and a $ n \\times 1$ vector $b$, the goal is to find a vector $x \\in \\mathbb{R}^d$ which minimizes the objective function $$f(x) = \\frac{1}{2n} \\sum_{i=1}^{n} (a_i^\\top x - b_i)^2 = \\frac{1}{2n} \\|Ax - b\\|^2 $$\n",
    "\n",
    "In this exercise, we will try to fit $x$ using Least Squares Estimation. \n",
    "\n",
    "One can see the function is $L$ smooth with $L =\\frac1n\\|A^T A\\|  = \\frac1n\\|A\\|^2$ (Lemma 2.3 for the first equality, and a few manipulations for the second)."
   ]
  },
  {
   "cell_type": "markdown",
   "metadata": {},
   "source": [
    "# Computing the Objective Function\n",
    "Fill in the `calculate_objective` function below:"
   ]
  },
  {
   "cell_type": "code",
   "execution_count": 5,
   "metadata": {},
   "outputs": [],
   "source": [
    "def calculate_objective(b, A, x):\n",
    "    \"\"\"Calculate the mean squared error for Ax - b.\"\"\"\n",
    "\n",
    "    # computing the prediction\n",
    "    y_pred = np.dot(A, x)\n",
    "    # subtract the differences\n",
    "    diff = np.subtract(y_pred, b)\n",
    "    # return MSE\n",
    "    return np.square(diff).mean()"
   ]
  },
  {
   "cell_type": "markdown",
   "metadata": {},
   "source": [
    "# Compute smoothness constant $L$"
   ]
  },
  {
   "cell_type": "markdown",
   "metadata": {},
   "source": [
    "To compute the spectral norm of A you can use np.linalg.norm(A, 2)"
   ]
  },
  {
   "cell_type": "code",
   "execution_count": 6,
   "metadata": {},
   "outputs": [],
   "source": [
    "def calculate_L(b, A):\n",
    "    \"\"\"Calculate the smoothness constant for f\"\"\"\n",
    "\n",
    "    # compute ||A.T*A||\n",
    "    AtA = np.matmul(A.T, A)\n",
    "    AtA_norm = np.linalg.norm(AtA)\n",
    "\n",
    "    # compute L = smoothness constant of f\n",
    "    L = (1/len(A)) * AtA_norm\n",
    "    return L"
   ]
  },
  {
   "cell_type": "markdown",
   "metadata": {},
   "source": [
    "# Gradient Descent"
   ]
  },
  {
   "cell_type": "markdown",
   "metadata": {},
   "source": [
    "Please fill in the functions `compute_gradient` below:"
   ]
  },
  {
   "cell_type": "code",
   "execution_count": 7,
   "metadata": {},
   "outputs": [],
   "source": [
    "def compute_gradient(b, A, x):\n",
    "    \"\"\"Compute the gradient.\"\"\"\n",
    "\n",
    "    # computing the prediction\n",
    "    h = np.dot(A, x)\n",
    "    #  compute gradient\n",
    "    grad = 2 * np.dot(A.T, (h - b)) / len(b)\n",
    "\n",
    "    return grad"
   ]
  },
  {
   "cell_type": "markdown",
   "metadata": {},
   "source": [
    "Please fill in the functions `gradient_descent` below:"
   ]
  },
  {
   "cell_type": "code",
   "execution_count": 8,
   "metadata": {},
   "outputs": [],
   "source": [
    "def gradient_descent(b, A, initial_x, max_iters, gamma):\n",
    "    \"\"\"Gradient descent algorithm.\"\"\"\n",
    "    # store iterates and objective func. values\n",
    "    xs = [initial_x]\n",
    "    objectives = []\n",
    "    x = initial_x\n",
    "    for n_iter in range(max_iters):\n",
    "        # compute gradient and objective function\n",
    "        grad = compute_gradient(b, A, x)\n",
    "        obj = calculate_objective(b, A, x)\n",
    "        # update x by a gradient descent step\n",
    "        x = x - (gamma * grad)\n",
    "        # store x and objective function value\n",
    "        xs.append(x)\n",
    "        objectives.append(obj)\n",
    "        print(\"Gradient Descent({bi}/{ti}): objective={l}\".format(\n",
    "              bi=n_iter, ti=max_iters - 1, l=obj))\n",
    "\n",
    "    return objectives, xs"
   ]
  },
  {
   "cell_type": "markdown",
   "metadata": {},
   "source": [
    "# Running gradient descent"
   ]
  },
  {
   "cell_type": "markdown",
   "metadata": {},
   "source": [
    "## Naive step size rule"
   ]
  },
  {
   "cell_type": "code",
   "execution_count": 9,
   "metadata": {},
   "outputs": [
    {
     "name": "stdout",
     "output_type": "stream",
     "text": [
      "Gradient Descent(0/49): objective=42450.95346075453\n",
      "Gradient Descent(1/49): objective=27457.85038153901\n",
      "Gradient Descent(2/49): objective=17767.000589695814\n",
      "Gradient Descent(3/49): objective=11500.806592779669\n",
      "Gradient Descent(4/49): objective=7447.441403129726\n",
      "Gradient Descent(5/49): objective=4824.45683109983\n",
      "Gradient Descent(6/49): objective=3126.4402379609005\n",
      "Gradient Descent(7/49): objective=2026.7957320138044\n",
      "Gradient Descent(8/49): objective=1314.394305051688\n",
      "Gradient Descent(9/49): objective=852.6971769053755\n",
      "Gradient Descent(10/49): objective=553.3692495054571\n",
      "Gradient Descent(11/49): objective=359.23924704349145\n",
      "Gradient Descent(12/49): objective=233.29131034555874\n",
      "Gradient Descent(13/49): objective=151.55030182936582\n",
      "Gradient Descent(14/49): objective=98.48178218151715\n",
      "Gradient Descent(15/49): objective=64.01668841397027\n",
      "Gradient Descent(16/49): objective=41.62613191969677\n",
      "Gradient Descent(17/49): objective=27.07520600507658\n",
      "Gradient Descent(18/49): objective=17.61601387714506\n",
      "Gradient Descent(19/49): objective=11.464918363685301\n",
      "Gradient Descent(20/49): objective=7.463783278986934\n",
      "Gradient Descent(21/49): objective=4.860367251539719\n",
      "Gradient Descent(22/49): objective=3.1659091344810353\n",
      "Gradient Descent(23/49): objective=2.0627395238115898\n",
      "Gradient Descent(24/49): objective=1.3443248256897984\n",
      "Gradient Descent(25/49): objective=0.8763452692028404\n",
      "Gradient Descent(26/49): objective=0.5714191690142814\n",
      "Gradient Descent(27/49): objective=0.37268357077819736\n",
      "Gradient Descent(28/49): objective=0.24312462634419163\n",
      "Gradient Descent(29/49): objective=0.15864205190087122\n",
      "Gradient Descent(30/49): objective=0.10353943296853818\n",
      "Gradient Descent(31/49): objective=0.06759098986191868\n",
      "Gradient Descent(32/49): objective=0.04413314627560606\n",
      "Gradient Descent(33/49): objective=0.02882249448187356\n",
      "Gradient Descent(34/49): objective=0.018827228910083288\n",
      "Gradient Descent(35/49): objective=0.012300620354153175\n",
      "Gradient Descent(36/49): objective=0.008038056423200579\n",
      "Gradient Descent(37/49): objective=0.0052535903148220485\n",
      "Gradient Descent(38/49): objective=0.003434315631868119\n",
      "Gradient Descent(39/49): objective=0.0022454368279784683\n",
      "Gradient Descent(40/49): objective=0.0014683714447881204\n",
      "Gradient Descent(41/49): objective=0.0009603805189950066\n",
      "Gradient Descent(42/49): objective=0.0006282333547658161\n",
      "Gradient Descent(43/49): objective=0.000411023673603737\n",
      "Gradient Descent(44/49): objective=0.00026895454389874734\n",
      "Gradient Descent(45/49): objective=0.0001760172338334356\n",
      "Gradient Descent(46/49): objective=0.00011521097519089885\n",
      "Gradient Descent(47/49): objective=7.542112643944569e-05\n",
      "Gradient Descent(48/49): objective=4.9379975309474746e-05\n",
      "Gradient Descent(49/49): objective=3.233446294961123e-05\n",
      "Gradient Descent: execution time=0.066 seconds\n"
     ]
    }
   ],
   "source": [
    "# Define the parameters of the algorithm.\n",
    "max_iters = 50\n",
    "\n",
    "gamma = 0.1\n",
    "\n",
    "# Initialization\n",
    "x_initial = np.zeros(A.shape[1])\n",
    "\n",
    "# Start gradient descent.\n",
    "start_time = datetime.datetime.now()\n",
    "gradient_naive, xs_naive = gradient_descent(b, A, x_initial, max_iters, gamma)\n",
    "end_time = datetime.datetime.now()\n",
    "\n",
    "# Print result\n",
    "exection_time = (end_time - start_time).total_seconds()\n",
    "print(\"Gradient Descent: execution time={t:.3f} seconds\".format(t=exection_time))"
   ]
  },
  {
   "cell_type": "markdown",
   "metadata": {},
   "source": [
    "## Assuming bounded gradients\n",
    "If we disregard the smoothness of our objective function we can still guarantee some convergence properties via the theoretical guarantees of the subgradient method.\n",
    "\n",
    "For this we have to assume that the iterates remain in a bounded region $\\|x\\| \\leq 25$ containing all iterates (and we assume $\\|x-x^\\star\\| \\leq 25$ as well, for simplicity). Then by $\\nabla f(x) = \\frac{1}{n}A^\\top (Ax - b)$, one can see that $f$ is Lipschitz over that bounded region, with Lipschitz constant $\\|\\nabla f(x)\\| \\leq \\frac{1}{n} (\\|A^\\top A\\|\\|x\\| + \\|A^\\top b\\|)$"
   ]
  },
  {
   "cell_type": "code",
   "execution_count": 10,
   "metadata": {},
   "outputs": [
    {
     "data": {
      "text/plain": [
       "283.1558072145261"
      ]
     },
     "execution_count": 10,
     "metadata": {},
     "output_type": "execute_result"
    }
   ],
   "source": [
    "# Compute the bound on the gradient norm\n",
    "\n",
    "# compute n\n",
    "n = len(b)\n",
    "\n",
    "# compute ||A.T*A||\n",
    "AtA = np.matmul(A.T, A)\n",
    "AtA_norm = np.linalg.norm(AtA)\n",
    "\n",
    "# set ||x||\n",
    "x_norm = 25\n",
    "\n",
    "# compute ||A.T*b||\n",
    "Atb = np.matmul(A.T, b)\n",
    "Atb_norm = np.linalg.norm(Atb)\n",
    "\n",
    "grad_norm_bound = (1/n) * ((AtA_norm * x_norm) + Atb_norm)\n",
    "grad_norm_bound"
   ]
  },
  {
   "cell_type": "markdown",
   "metadata": {},
   "source": [
    "Fill in the learning rate assuming bounded gradients"
   ]
  },
  {
   "cell_type": "code",
   "execution_count": 17,
   "metadata": {
    "scrolled": true
   },
   "outputs": [
    {
     "name": "stdout",
     "output_type": "stream",
     "text": [
      "Gradient Descent(0/49): objective=42450.95346075453\n",
      "Gradient Descent(1/49): objective=26914.277729861857\n",
      "Gradient Descent(2/49): objective=17071.205816496684\n",
      "Gradient Descent(3/49): objective=10832.523539307285\n",
      "Gradient Descent(4/49): objective=6876.6470177743895\n",
      "Gradient Descent(5/49): objective=4367.19957539295\n",
      "Gradient Descent(6/49): objective=2774.6360922663457\n",
      "Gradient Descent(7/49): objective=1763.5309551747469\n",
      "Gradient Descent(8/49): objective=1121.3249911319056\n",
      "Gradient Descent(9/49): objective=713.2610224648286\n",
      "Gradient Descent(10/49): objective=453.8697171628218\n",
      "Gradient Descent(11/49): objective=288.91941954709205\n",
      "Gradient Descent(12/49): objective=183.98486736014505\n",
      "Gradient Descent(13/49): objective=117.20450435271975\n",
      "Gradient Descent(14/49): objective=74.68962406852664\n",
      "Gradient Descent(15/49): objective=47.61315138846992\n",
      "Gradient Descent(16/49): objective=30.36275304239068\n",
      "Gradient Descent(17/49): objective=19.36866985728164\n",
      "Gradient Descent(18/49): objective=12.359466484223676\n",
      "Gradient Descent(19/49): objective=7.889287277907179\n",
      "Gradient Descent(20/49): objective=5.037450297829608\n",
      "Gradient Descent(21/49): objective=3.217477927525306\n",
      "Gradient Descent(22/49): objective=2.0556493082705267\n",
      "Gradient Descent(23/49): objective=1.3137356573159176\n",
      "Gradient Descent(24/49): objective=0.8398260483623293\n",
      "Gradient Descent(25/49): objective=0.5370194170826399\n",
      "Gradient Descent(26/49): objective=0.34348427648656693\n",
      "Gradient Descent(27/49): objective=0.21975406531031053\n",
      "Gradient Descent(28/49): objective=0.1406297329323748\n",
      "Gradient Descent(29/49): objective=0.09001701211665361\n",
      "Gradient Descent(30/49): objective=0.05763367492695884\n",
      "Gradient Descent(31/49): objective=0.036908757188641075\n",
      "Gradient Descent(32/49): objective=0.02364182933746594\n",
      "Gradient Descent(33/49): objective=0.01514706489186087\n",
      "Gradient Descent(34/49): objective=0.009706639467527853\n",
      "Gradient Descent(35/49): objective=0.0062215646857701375\n",
      "Gradient Descent(36/49): objective=0.00398857724776431\n",
      "Gradient Descent(37/49): objective=0.002557534308167132\n",
      "Gradient Descent(38/49): objective=0.0016402402561797092\n",
      "Gradient Descent(39/49): objective=0.0010521399733534446\n",
      "Gradient Descent(40/49): objective=0.000675020877959641\n",
      "Gradient Descent(41/49): objective=0.0004331478380094155\n",
      "Gradient Descent(42/49): objective=0.0002779892772731307\n",
      "Gradient Descent(43/49): objective=0.00017843934869091877\n",
      "Gradient Descent(44/49): objective=0.00011455701960098154\n",
      "Gradient Descent(45/49): objective=7.355617404468116e-05\n",
      "Gradient Descent(46/49): objective=4.723683807261354e-05\n",
      "Gradient Descent(47/49): objective=3.0339242818375455e-05\n",
      "Gradient Descent(48/49): objective=1.9488971129265847e-05\n",
      "Gradient Descent(49/49): objective=1.252078108018671e-05\n",
      "Gradient Descent: execution time=0.069 seconds\n"
     ]
    }
   ],
   "source": [
    "max_iters = 50\n",
    "\n",
    "# Compute learning rate based on bounded gradient\n",
    "gamma = np.linalg.norm(xstar) / (grad_norm_bound * np.sqrt(max_iters))\n",
    "\n",
    "# Initialization\n",
    "x_initial = np.zeros(A.shape[1])\n",
    "\n",
    "# Start gradient descent.\n",
    "start_time = datetime.datetime.now()\n",
    "bd_objectives, bd_xs = gradient_descent(b, A, x_initial, max_iters, gamma)\n",
    "end_time = datetime.datetime.now()\n",
    "\n",
    "\n",
    "# Print result\n",
    "exection_time = (end_time - start_time).total_seconds()\n",
    "print(\"Gradient Descent: execution time={t:.3f} seconds\".format(t=exection_time))\n",
    "\n",
    "# Averaging the iterates as is the case for bounded gradients case\n",
    "bd_objectives_averaged = []\n",
    "for i in range(len(bd_xs)):\n",
    "    if i > 0:\n",
    "        bd_xs[i] = (i * bd_xs[i-1] + bd_xs[i])/(i + 1)\n",
    "    grad = compute_gradient(b, A, bd_xs[i])\n",
    "    obj = calculate_objective(b, A, bd_xs[i])\n",
    "    bd_objectives_averaged.append(obj)"
   ]
  },
  {
   "cell_type": "markdown",
   "metadata": {},
   "source": [
    "## Using smoothness\n",
    "Fill in the learning rate using smoothness of the function"
   ]
  },
  {
   "cell_type": "code",
   "execution_count": 18,
   "metadata": {},
   "outputs": [
    {
     "name": "stdout",
     "output_type": "stream",
     "text": [
      "Gradient Descent(0/49): objective=42450.95346075453\n",
      "Gradient Descent(1/49): objective=6245.164684460981\n",
      "Gradient Descent(2/49): objective=933.8321587794555\n",
      "Gradient Descent(3/49): objective=141.67518019999676\n",
      "Gradient Descent(4/49): objective=21.766760878737767\n",
      "Gradient Descent(5/49): objective=3.3802734409863695\n",
      "Gradient Descent(6/49): objective=0.5296694950383508\n",
      "Gradient Descent(7/49): objective=0.08361265928849174\n",
      "Gradient Descent(8/49): objective=0.013278997760718258\n",
      "Gradient Descent(9/49): objective=0.0021192911120751796\n",
      "Gradient Descent(10/49): objective=0.00033957888681246466\n",
      "Gradient Descent(11/49): objective=5.458642015730531e-05\n",
      "Gradient Descent(12/49): objective=8.797442956255867e-06\n",
      "Gradient Descent(13/49): objective=1.4208361085140674e-06\n",
      "Gradient Descent(14/49): objective=2.2986804213124008e-07\n",
      "Gradient Descent(15/49): objective=3.724145693887774e-08\n",
      "Gradient Descent(16/49): objective=6.0406308584371355e-09\n",
      "Gradient Descent(17/49): objective=9.80757135227454e-10\n",
      "Gradient Descent(18/49): objective=1.5936660883208419e-10\n",
      "Gradient Descent(19/49): objective=2.5914116845675953e-11\n",
      "Gradient Descent(20/49): objective=4.216341314294308e-12\n",
      "Gradient Descent(21/49): objective=6.863736675773766e-13\n",
      "Gradient Descent(22/49): objective=1.1178476362505084e-13\n",
      "Gradient Descent(23/49): objective=1.8212874385985935e-14\n",
      "Gradient Descent(24/49): objective=2.9684439850077756e-15\n",
      "Gradient Descent(25/49): objective=4.839689545495315e-16\n",
      "Gradient Descent(26/49): objective=7.89278592106217e-17\n",
      "Gradient Descent(27/49): objective=1.2875268377663627e-17\n",
      "Gradient Descent(28/49): objective=2.1008067748233294e-18\n",
      "Gradient Descent(29/49): objective=3.428591702692981e-19\n",
      "Gradient Descent(30/49): objective=5.596288840981955e-20\n",
      "Gradient Descent(31/49): objective=9.138164675335367e-21\n",
      "Gradient Descent(32/49): objective=1.4919770789190398e-21\n",
      "Gradient Descent(33/49): objective=2.4351063725209845e-22\n",
      "Gradient Descent(34/49): objective=3.9808384595168265e-23\n",
      "Gradient Descent(35/49): objective=6.530708433609979e-24\n",
      "Gradient Descent(36/49): objective=1.0649187176168294e-24\n",
      "Gradient Descent(37/49): objective=1.776683412927039e-25\n",
      "Gradient Descent(38/49): objective=3.06494099196221e-26\n",
      "Gradient Descent(39/49): objective=6.2412581036332576e-27\n",
      "Gradient Descent(40/49): objective=1.674134008904278e-27\n",
      "Gradient Descent(41/49): objective=8.848673925197111e-28\n",
      "Gradient Descent(42/49): objective=8.166418104985856e-28\n",
      "Gradient Descent(43/49): objective=8.102346822263805e-28\n",
      "Gradient Descent(44/49): objective=8.102346822263805e-28\n",
      "Gradient Descent(45/49): objective=8.102346822263805e-28\n",
      "Gradient Descent(46/49): objective=8.102346822263805e-28\n",
      "Gradient Descent(47/49): objective=8.102346822263805e-28\n",
      "Gradient Descent(48/49): objective=8.102346822263805e-28\n",
      "Gradient Descent(49/49): objective=8.102346822263805e-28\n",
      "Gradient Descent: execution time=0.068 seconds\n"
     ]
    }
   ],
   "source": [
    "max_iters = 50\n",
    "\n",
    "# a better learning rate using the smoothness of f\n",
    "gamma = 1 / calculate_L(b, A)\n",
    "\n",
    "# Initialization\n",
    "x_initial = np.zeros(A.shape[1])\n",
    "\n",
    "# Start gradient descent.\n",
    "start_time = datetime.datetime.now()\n",
    "objectives, gradient_xs = gradient_descent(b, A, x_initial, max_iters, gamma)\n",
    "end_time = datetime.datetime.now()\n",
    "\n",
    "# Print result\n",
    "exection_time = (end_time - start_time).total_seconds()\n",
    "print(\"Gradient Descent: execution time={t:.3f} seconds\".format(t=exection_time))"
   ]
  },
  {
   "cell_type": "markdown",
   "metadata": {},
   "source": [
    "## Plotting the Evolution of the Objective Function"
   ]
  },
  {
   "cell_type": "code",
   "execution_count": 19,
   "metadata": {},
   "outputs": [
    {
     "data": {
      "image/png": "[encoded data removed]",
      "text/plain": [
       "<Figure size 576x576 with 1 Axes>"
      ]
     },
     "metadata": {
      "needs_background": "light"
     },
     "output_type": "display_data"
    }
   ],
   "source": [
    "plt.figure(figsize=(8, 8))\n",
    "plt.xlabel('Number of steps')\n",
    "plt.ylabel('Objective Function')\n",
    "#plt.yscale(\"log\")\n",
    "plt.plot(range(len(objectives)), objectives,'r', label='gradient descent with 1/L stepsize')\n",
    "plt.plot(range(len(bd_objectives)), bd_objectives,'b', label='gradient descent assuming bounded gradients')\n",
    "plt.plot(range(len(bd_objectives_averaged)), bd_objectives_averaged,'g', label='gradient descent assuming bounded gradients with averaged iterates')\n",
    "plt.legend(loc='upper right')\n",
    "plt.show()"
   ]
  }
 ],
 "metadata": {
  "anaconda-cloud": {},
  "hide_input": false,
  "kernelspec": {
   "display_name": "Python 3",
   "language": "python",
   "name": "python3"
  },
  "language_info": {
   "codemirror_mode": {
    "name": "ipython",
    "version": 3
   },
   "file_extension": ".py",
   "mimetype": "text/x-python",
   "name": "python",
   "nbconvert_exporter": "python",
   "pygments_lexer": "ipython3",
   "version": "3.7.4"
  },
  "pycharm": {
   "stem_cell": {
    "cell_type": "raw",
    "metadata": {
     "collapsed": false
    },
    "source": []
   }
  },
  "toc": {
   "base_numbering": 1,
   "nav_menu": {},
   "number_sections": true,
   "sideBar": true,
   "skip_h1_title": false,
   "title_cell": "Table of Contents",
   "title_sidebar": "Contents",
   "toc_cell": false,
   "toc_position": {},
   "toc_section_display": true,
   "toc_window_display": false
  },
  "widgets": {
   "state": {
    "d2b2c3aea192430e81437f33ba0b0e69": {
     "views": [
      {
       "cell_index": 22
      }
     ]
    },
    "e4a6a7a70ccd42ddb112989c04f2ed3f": {
     "views": [
      {
       "cell_index": 18
      }
     ]
    }
   },
   "version": "1.2.0"
  }
 },
 "nbformat": 4,
 "nbformat_minor": 1
}
